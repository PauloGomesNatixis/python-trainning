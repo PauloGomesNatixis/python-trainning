{
 "cells": [
  {
   "cell_type": "code",
   "execution_count": null,
   "id": "3fd8e797-e764-407c-ae3b-158b953fa082",
   "metadata": {},
   "outputs": [],
   "source": []
  }
 ],
 "metadata": {
  "kernelspec": {
   "display_name": "",
   "name": ""
  },
  "language_info": {
   "name": ""
  }
 },
 "nbformat": 4,
 "nbformat_minor": 5
}
