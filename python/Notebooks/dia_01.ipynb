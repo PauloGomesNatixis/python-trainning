{
 "cells": [
  {
   "cell_type": "code",
   "execution_count": null,
   "id": "f31d9361-aa64-4112-a017-3527eb497c9a",
   "metadata": {},
   "outputs": [],
   "source": [
    "#criar projeto \"Notebook\"\n",
    "\n",
    "# -abrir terminal\n",
    "\n",
    "poetry init\n",
    "# - Package to add or search for (leave blank to skip): notebook - vai pesqisar \n",
    "\n",
    "\n",
    "# -criar ficheiro \"Makefile\"\n",
    "# e executar \"make start\"\n",
    "# automaticamente vai executar o que está dentro do Makefile\n",
    "\n",
    "\n",
    "# --------------------------------------------------------------------\n"
   ]
  },
  {
   "cell_type": "code",
   "execution_count": null,
   "id": "40ecc849-9391-4059-992a-c848dcb2a3c0",
   "metadata": {},
   "outputs": [],
   "source": [
    "#Definir variaveirs/tipos de dados\n",
    "\n",
    "\n",
    "# -forçar a um tipo de dados\n",
    "list_a: list[str] = [\"a\",\"b\"]\n",
    "\n",
    "# definir variavel\n",
    "value = \"c\"\n",
    "-posso usar varivel na lista\n",
    "list_a: list[str] = [\"a\",\"b\",value]\n",
    "\n",
    "\n",
    "# definir função\n",
    "def func(a: str) -> str:\n",
    "    return \"a\"\n",
    "\n",
    "\n",
    "#-declara dicionario\n",
    "dict_a = {\n",
    "    \"KeyA\": \"valueA\",\n",
    "    \"keyA\": \"valueB\",\n",
    "}\n",
    "#-definir dicionario com tipo de dados definidos\n",
    "dict_a dict[str,str] = {\n",
    "    \"KeyA\": \"valueA\",\n",
    "    \"keyA\": \"valueB\",\n",
    "}\n",
    "\n",
    "dict_b = {\n",
    "    1: \"a\",\n",
    "    2: \"b\",\n",
    "}"
   ]
  },
  {
   "cell_type": "code",
   "execution_count": 13,
   "id": "8a3270b3-2d56-4391-9230-83dcb92c9ace",
   "metadata": {},
   "outputs": [
    {
     "ename": "SyntaxError",
     "evalue": "invalid syntax (448057669.py, line 21)",
     "output_type": "error",
     "traceback": [
      "\u001b[0;36m  Cell \u001b[0;32mIn[13], line 21\u001b[0;36m\u001b[0m\n\u001b[0;31m    dict_a dict[str,str] = {\u001b[0m\n\u001b[0m           ^\u001b[0m\n\u001b[0;31mSyntaxError\u001b[0m\u001b[0;31m:\u001b[0m invalid syntax\n"
     ]
    }
   ],
   "source": [
    "\n",
    "\n",
    "\n",
    "# -forçar a um tipo de dados\n",
    "list_a: list[str] = [\"a\",\"b\"]\n",
    "\n",
    "# definir variavel\n",
    "value = \"c\"\n",
    "#-posso usar varivel na lista\n",
    "list_a: list[str] = [\"a\",\"b\",value]\n",
    "\n",
    "\n",
    "# definir função\n",
    "def func(a: str) -> str:\n",
    "    return \"a\"\n",
    "\n",
    "\n",
    "#-declara dicionario\n",
    "dict_a = {\n",
    "    \"KeyA\": \"valueA\",\n",
    "    \"keyA\": \"valueB\",\n",
    "}\n",
    "#-definir dicionario com tipo de dados definidos\n",
    "dict_a dict[str,str] = {\n",
    "    \"KeyA\": \"valueA\",\n",
    "    \"keyA\": \"valueB\",\n",
    "}\n",
    "\n",
    "dict_b = {\n",
    "    1: \"a\",\n",
    "    2: \"b\",\n",
    "}\n",
    "\n",
    "\n",
    "# como aceder ao dados/valoes\n",
    "\n",
    "print (value) # mostrar o valor da variavel \"value\"\n",
    "\n",
    "print(list_a[1] - posição/indice da lista (começa em zero)\n",
    "r: \"b\"\n",
    "\n",
    "print(dict_a[\"KeyA\"])\n",
    "r: valueA\n",
    "\n",
    "\n",
    "# testar comprimento da lista para nao dar erro \"out of range\"\n",
    "if len(list_a) >= 3:\n",
    "    print(lista_a[3])\n",
    "\n",
    "\n",
    "list_a: list[str] = [\"a\",\"b\",value,\"d\"]\n",
    "\n",
    "#como deveria funcionar\n",
    "try:\n",
    "    print(lista_a[3])\n",
    "except:\n",
    "    print(\"indice fora da lista\")\n",
    "\n",
    "\n",
    "dict_a = { \"Bruno\": \"ValueB\", \"Eric\": \"ValueB\",}      \n",
    "      \n",
    "print(dict_a[\"Samanta\"]) vai dar erro, pois nao encontroi key\n",
    "#como resolver\n",
    "\n",
    "print(dict_a.get(\"Samanta\",\"outro valor\")) \n",
    "      \n",
    "      \n"
   ]
  },
  {
   "cell_type": "code",
   "execution_count": null,
   "id": "f51e5ec0-fefc-42d8-ad52-f116f0bb5fd6",
   "metadata": {},
   "outputs": [],
   "source": [
    "dict_a = { \"Bruno\": \"ValueB\", \"Eric\": \"ValueB\",}      \n",
    "      \n",
    "print(dict_a[\"Samanta\"]) vai dar erro, pois nao encontroi key\n",
    "#como resolver\n",
    "\n",
    "      "
   ]
  },
  {
   "cell_type": "code",
   "execution_count": null,
   "id": "f64cbcc8-645c-400e-b1f5-0ab9cd645a08",
   "metadata": {},
   "outputs": [],
   "source": [
    "dict_a = { \"Bruno\": \"ValueB\", \"Eric\": \"ValueB\",}      \n",
    "      \n",
    "#print(dict_a[\"Samanta\"]) vai dar erro, pois nao encontroi key\n",
    "#como resolver\n",
    "\n",
    "print(dict_a.get(\"Samanta\",\"outro valor\")) \n",
    "      \n"
   ]
  },
  {
   "cell_type": "code",
   "execution_count": 11,
   "id": "eb27b7ca-2959-4a59-8543-08b48d5cffb3",
   "metadata": {},
   "outputs": [
    {
     "name": "stdout",
     "output_type": "stream",
     "text": [
      "['Bruno', 'ValueB', 'Eric', 'ValueB', 'e']\n"
     ]
    },
    {
     "data": {
      "text/plain": [
       "['Bruno', 'ValueB', 'Eric', 'ValueB', 'e']"
      ]
     },
     "execution_count": 11,
     "metadata": {},
     "output_type": "execute_result"
    }
   ],
   "source": [
    "list_a = [\"Bruno\", \"ValueB\", \"Eric\", \"ValueB\"]\n",
    "\n",
    "list_a.append(\"e\")\n",
    "print(list_a)\n",
    "#ou\n",
    "list_a"
   ]
  },
  {
   "cell_type": "code",
   "execution_count": 10,
   "id": "24c79644-1159-4421-89e3-c1d80bbf9e4d",
   "metadata": {},
   "outputs": [
    {
     "data": {
      "text/plain": [
       "'n'"
      ]
     },
     "execution_count": 10,
     "metadata": {},
     "output_type": "execute_result"
    }
   ],
   "source": [
    "string= \"natixis\"\n",
    "\n",
    "string[0]"
   ]
  },
  {
   "cell_type": "code",
   "execution_count": 15,
   "id": "14f4247f-5fb5-4529-a719-fed02aeba651",
   "metadata": {},
   "outputs": [
    {
     "data": {
      "text/plain": [
       "{'Bruno', 'Eric', 'ValueB', 'e'}"
      ]
     },
     "execution_count": 15,
     "metadata": {},
     "output_type": "execute_result"
    }
   ],
   "source": [
    "#retira duplicados, ficam os distintos\n",
    "\n",
    "set(list_a)"
   ]
  },
  {
   "cell_type": "code",
   "execution_count": 17,
   "id": "5b4d2acb-bf7b-4e33-aeff-d39fb739a2e6",
   "metadata": {},
   "outputs": [
    {
     "name": "stdout",
     "output_type": "stream",
     "text": [
      "{1: 'a', 2: 'b'}\n"
     ]
    },
    {
     "data": {
      "text/plain": [
       "{}"
      ]
     },
     "execution_count": 17,
     "metadata": {},
     "output_type": "execute_result"
    }
   ],
   "source": [
    "dict_b = {\n",
    "    1: \"a\",\n",
    "    2: \"b\",\n",
    "}\n",
    "print(dict_b)\n",
    "\n",
    "#limpar o dicionario\n",
    "dict_b = {}\n",
    "\n",
    "dict_b"
   ]
  },
  {
   "cell_type": "code",
   "execution_count": 18,
   "id": "479d6d3e-364e-4e37-bb06-80cbb79b5783",
   "metadata": {},
   "outputs": [
    {
     "data": {
      "text/plain": [
       "{'a': 'b'}"
      ]
     },
     "execution_count": 18,
     "metadata": {},
     "output_type": "execute_result"
    }
   ],
   "source": [
    "dict_b[\"a\"] = \"b\"\n",
    "dict_b"
   ]
  },
  {
   "cell_type": "code",
   "execution_count": 23,
   "id": "4b9bd986-0144-47fb-b3eb-a52f33cf2009",
   "metadata": {},
   "outputs": [
    {
     "name": "stdout",
     "output_type": "stream",
     "text": [
      "a é verdadeiro\n",
      "a é True\n"
     ]
    }
   ],
   "source": [
    "# OPERDORES LOGICOS\n",
    "\n",
    "#Boleanos começa com MAIUSCULA\n",
    "\n",
    "a = True\n",
    "b = False\n",
    "\n",
    "if (a):\n",
    "    print (\"a é verdadeiro\")\n",
    "\n",
    "if (a):\n",
    "    print (\"a é \" + str(a))\n"
   ]
  },
  {
   "cell_type": "code",
   "execution_count": 24,
   "id": "c672e2f3-1616-4dd5-80ec-d0ac8f34c9e8",
   "metadata": {},
   "outputs": [
    {
     "name": "stdout",
     "output_type": "stream",
     "text": [
      "d é \n",
      "True\n"
     ]
    }
   ],
   "source": [
    "a = True\n",
    "b = False\n",
    "c = a == True #true\n",
    "d = 3 > 4 #false\n",
    "e = 4 < 3 #false\n",
    "f = 5 <= 5 #true\n",
    "g = 5 >= 5 #true\n",
    "\n",
    "if a and b:\n",
    "    print (\"a e b são verdadeiros\")\n",
    "\n",
    "if (d or f):\n",
    "    print (\"d é \" + \"\\n\" + str(a))"
   ]
  },
  {
   "cell_type": "code",
   "execution_count": 31,
   "id": "bd86b05e-7163-4814-8c11-1c79f904874d",
   "metadata": {},
   "outputs": [
    {
     "name": "stdout",
     "output_type": "stream",
     "text": [
      "False\n"
     ]
    },
    {
     "data": {
      "text/plain": [
       "False"
      ]
     },
     "execution_count": 31,
     "metadata": {},
     "output_type": "execute_result"
    }
   ],
   "source": [
    "# int() => 0\n",
    "# dict{} => {}\n",
    "# float() => 0,0\n",
    "# string() >= []\n",
    "#- todos estes resultados são FALSE\n",
    "\n",
    "i = None # tipo NONE\n",
    "\n",
    "dict_a = {}\n",
    "string_a = \"\"\n",
    "\n",
    "print( bool( int() ) )\n",
    "bool( dict_a )\n",
    "bool( float() )\n",
    "bool( string_a )"
   ]
  },
  {
   "cell_type": "code",
   "execution_count": 33,
   "id": "456f83d0-3705-4551-8009-16eb6613105e",
   "metadata": {},
   "outputs": [
    {
     "name": "stdout",
     "output_type": "stream",
     "text": [
      "2\n"
     ]
    }
   ],
   "source": [
    "x=2\n",
    "if x > 1 and x<3 :\n",
    "    print (x)"
   ]
  },
  {
   "cell_type": "code",
   "execution_count": 34,
   "id": "161449ad-6943-4a78-bc39-40a9f085a188",
   "metadata": {},
   "outputs": [
    {
     "name": "stdout",
     "output_type": "stream",
     "text": [
      "a\n",
      "b\n"
     ]
    }
   ],
   "source": [
    "# CICLOS\n",
    "\n",
    "# FOR\n",
    "\n",
    "x= [\"a\",\"b\",\"c\"]\n",
    "for item in x:\n",
    "    print(item)\n"
   ]
  },
  {
   "cell_type": "code",
   "execution_count": 37,
   "id": "1f523a94-be20-40b9-89cd-33f49cd172b9",
   "metadata": {},
   "outputs": [
    {
     "name": "stdout",
     "output_type": "stream",
     "text": [
      "a\n",
      "b\n",
      "c\n"
     ]
    }
   ],
   "source": [
    "\n",
    "x = [\"a\",\"b\",\"c\"]\n",
    "y = [item for item in x]\n",
    "\n",
    "for item in x:\n",
    "    print(item)\n",
    "\n"
   ]
  },
  {
   "cell_type": "code",
   "execution_count": 41,
   "id": "e1b2d36f-3dfc-4fa3-b109-d2066bea5e18",
   "metadata": {},
   "outputs": [
    {
     "name": "stdout",
     "output_type": "stream",
     "text": [
      "[{'a': 1}, {'a': 2}, {'a': 3}]\n"
     ]
    }
   ],
   "source": [
    "x = [{\"a\":1},{\"a\":2},{\"a\":3}]\n",
    "y = [item for item in x]\n",
    "\n",
    "print(y)"
   ]
  },
  {
   "cell_type": "code",
   "execution_count": 42,
   "id": "be216be6-2ebc-4351-b7f8-c29088fb608f",
   "metadata": {},
   "outputs": [
    {
     "name": "stdout",
     "output_type": "stream",
     "text": [
      "[1, 2]\n"
     ]
    }
   ],
   "source": [
    "\n",
    "x = [{\"a\":1},{\"a\":2},{\"a\":3}]\n",
    "z = x[0:2]\n",
    "y = [item.get(\"a\")\n",
    "     for item in z\n",
    "    ]\n",
    "\n",
    "print(y)"
   ]
  },
  {
   "cell_type": "code",
   "execution_count": null,
   "id": "142ceb0b-58ae-4d62-9921-192390c9f121",
   "metadata": {},
   "outputs": [],
   "source": []
  }
 ],
 "metadata": {
  "kernelspec": {
   "display_name": "Python 3 (ipykernel)",
   "language": "python",
   "name": "python3"
  },
  "language_info": {
   "codemirror_mode": {
    "name": "ipython",
    "version": 3
   },
   "file_extension": ".py",
   "mimetype": "text/x-python",
   "name": "python",
   "nbconvert_exporter": "python",
   "pygments_lexer": "ipython3",
   "version": "3.10.12"
  }
 },
 "nbformat": 4,
 "nbformat_minor": 5
}
