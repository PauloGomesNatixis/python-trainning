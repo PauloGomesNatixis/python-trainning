{
 "cells": [
  {
   "cell_type": "code",
   "execution_count": 2,
   "id": "e2d3ec22-7fb9-4783-9526-8c96d61edb0b",
   "metadata": {},
   "outputs": [
    {
     "data": {
      "text/plain": [
       "'Apple,Watermellon,Grapes'"
      ]
     },
     "execution_count": 2,
     "metadata": {},
     "output_type": "execute_result"
    }
   ],
   "source": [
    "#dia 01\n",
    "#lab 4\n",
    "\n",
    "#replace de strings\n",
    "\n",
    "x = [\n",
    "    \"Apple\",\n",
    "    \"Watermellon\",\n",
    "    \"Grapes\"\n",
    "]\n",
    "\n",
    "x\n",
    "\n",
    "\",\".join(x)"
   ]
  },
  {
   "cell_type": "code",
   "execution_count": 8,
   "id": "28ef6566-9898-482e-93d7-363038dde1e5",
   "metadata": {},
   "outputs": [
    {
     "name": "stdout",
     "output_type": "stream",
     "text": [
      "Apple,Watermellon,Grapes\n"
     ]
    },
    {
     "data": {
      "text/plain": [
       "'[AppleWatermellonGrapes]'"
      ]
     },
     "execution_count": 8,
     "metadata": {},
     "output_type": "execute_result"
    }
   ],
   "source": [
    "#dia 01\n",
    "#lab 4\n",
    "\n",
    "#replace de strings\n",
    "\n",
    "x = \"[Apple,Watermellon,Grapes]\"\n",
    "\n",
    "\n",
    "x.replace(\"[\",\"\").replace(\"]\",\"\")\n",
    "print( x.replace(\"[\",\"\").replace(\"]\",\"\") )\n",
    "\n",
    "x.replace(\",\",\"\")"
   ]
  },
  {
   "cell_type": "code",
   "execution_count": 2,
   "id": "8e33358e-a59b-4070-8d7f-4c33a5ac0899",
   "metadata": {},
   "outputs": [
    {
     "name": "stdout",
     "output_type": "stream",
     "text": [
      "Novo item adicionado: Apple\n",
      "Novo item adicionado: Watermellon\n",
      "Novo item adicionado: Grapes\n",
      "['Apple', 'Watermellon', 'Grapes']\n"
     ]
    }
   ],
   "source": [
    "\n",
    "#replace de strings\n",
    "\n",
    "x = [\"Apple\",\"Watermellon\",\"Grapes\"]\n",
    "x\n",
    "y = []\n",
    "count = 0\n",
    "\n",
    "while count < 3:\n",
    "    item = x[count]\n",
    "    \n",
    "    y.append(item)\n",
    "    print(\"Novo item adicionado:\",item)\n",
    "    \n",
    "    count += 1\n",
    "print(y)"
   ]
  },
  {
   "cell_type": "code",
   "execution_count": 7,
   "id": "0e245b17-e490-447d-bee1-3262e436c188",
   "metadata": {},
   "outputs": [
    {
     "data": {
      "text/plain": [
       "['a']"
      ]
     },
     "execution_count": 7,
     "metadata": {},
     "output_type": "execute_result"
    }
   ],
   "source": [
    "list_a = []\n",
    "list_a.append(\"a\")\n",
    "list_a"
   ]
  },
  {
   "cell_type": "code",
   "execution_count": 9,
   "id": "2ce4ae7a-4255-444f-9b71-2108c40d67db",
   "metadata": {},
   "outputs": [],
   "source": [
    "list_a = []\n",
    "list_a = list_a.append(\"a\")\n",
    "list_a\n",
    "# Retorna None, uma vez que a metodo \"append\" nao retorna valores\n"
   ]
  },
  {
   "cell_type": "code",
   "execution_count": 17,
   "id": "b05f2eba-3dc7-491a-9154-d30764bae3e3",
   "metadata": {},
   "outputs": [
    {
     "name": "stdout",
     "output_type": "stream",
     "text": [
      "0\n",
      "1\n",
      "2\n",
      "\n",
      "\n",
      "5\n",
      "6\n",
      "7\n",
      "8\n",
      "9\n",
      "10\n"
     ]
    }
   ],
   "source": [
    "#RANGE\n",
    "\n",
    "range(3)\n",
    "\n",
    "for n in range(3):\n",
    "    print(n)\n",
    "print(\"\\n\")\n",
    "\n",
    "\n",
    "for n in range(5,11):\n",
    "    print(n)"
   ]
  },
  {
   "cell_type": "code",
   "execution_count": 23,
   "id": "3923f49b-c230-47a0-a30c-89ee48ebca0a",
   "metadata": {},
   "outputs": [
    {
     "name": "stdout",
     "output_type": "stream",
     "text": [
      "Novo item adicionado: Apple\n",
      "Novo item adicionado: Watermellon\n",
      "Novo item adicionado: Grapes\n",
      "['Apple', 'Watermellon', 'Grapes']\n",
      "\n",
      "\n",
      "['Apple', 'Watermellon']\n",
      "\n",
      "\n"
     ]
    }
   ],
   "source": [
    "x = [\"Apple\",\"Watermellon\",\"Grapes\"]\n",
    "x\n",
    "y = []\n",
    "count = 0\n",
    "\n",
    "while count < 3:\n",
    "    item = x[count]\n",
    "    \n",
    "    y.append(item)\n",
    "    print(\"Novo item adicionado:\",item)\n",
    "    \n",
    "    count += 1\n",
    "print(y)\n",
    "print(\"\\n\")\n",
    "\n",
    "# outra forma de fazer com \"range\"\n",
    "y = []\n",
    "for index in range(2):\n",
    "    item = x[index]\n",
    "    y.append(item)\n",
    "print(y)\n",
    "print(\"\\n\")\n",
    "\n"
   ]
  },
  {
   "cell_type": "code",
   "execution_count": 33,
   "id": "3b98d339-c489-4beb-9248-165e684c7548",
   "metadata": {},
   "outputs": [
    {
     "name": "stdout",
     "output_type": "stream",
     "text": [
      "5\n",
      "= or lower than 5\n"
     ]
    }
   ],
   "source": [
    "# TERNARIO\n",
    "# OUTRA FORMA DE ESCREVER CONDICAO IF\n",
    "\n",
    "x= 5\n",
    "result = \"greater than 5\" if x > 5 else \"= or lower than 5\"\n",
    "print(x)\n",
    "print(result)"
   ]
  },
  {
   "cell_type": "code",
   "execution_count": 35,
   "id": "33717d08-ca0b-430d-95e2-cce68a674e3d",
   "metadata": {},
   "outputs": [
    {
     "name": "stdout",
     "output_type": "stream",
     "text": [
      "6\n"
     ]
    }
   ],
   "source": [
    "def add(a,b):\n",
    "    return a+b\n",
    "\n",
    "print(add(3,3))"
   ]
  },
  {
   "cell_type": "code",
   "execution_count": null,
   "id": "71075879-6cfc-4214-9818-0c93006cfca3",
   "metadata": {},
   "outputs": [],
   "source": [
    "# classes\n",
    "# \n"
   ]
  }
 ],
 "metadata": {
  "kernelspec": {
   "display_name": "Python 3 (ipykernel)",
   "language": "python",
   "name": "python3"
  },
  "language_info": {
   "codemirror_mode": {
    "name": "ipython",
    "version": 3
   },
   "file_extension": ".py",
   "mimetype": "text/x-python",
   "name": "python",
   "nbconvert_exporter": "python",
   "pygments_lexer": "ipython3",
   "version": "3.10.12"
  }
 },
 "nbformat": 4,
 "nbformat_minor": 5
}
