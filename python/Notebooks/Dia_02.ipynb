{
 "cells": [
  {
   "cell_type": "code",
   "execution_count": 2,
   "id": "e2d3ec22-7fb9-4783-9526-8c96d61edb0b",
   "metadata": {},
   "outputs": [
    {
     "data": {
      "text/plain": [
       "'Apple,Watermellon,Grapes'"
      ]
     },
     "execution_count": 2,
     "metadata": {},
     "output_type": "execute_result"
    }
   ],
   "source": [
    "#dia 01\n",
    "#lab 4\n",
    "\n",
    "#replace de strings\n",
    "\n",
    "x = [\n",
    "    \"Apple\",\n",
    "    \"Watermellon\",\n",
    "    \"Grapes\"\n",
    "]\n",
    "\n",
    "x\n",
    "\n",
    "\",\".join(x)"
   ]
  },
  {
   "cell_type": "code",
   "execution_count": 8,
   "id": "28ef6566-9898-482e-93d7-363038dde1e5",
   "metadata": {},
   "outputs": [
    {
     "name": "stdout",
     "output_type": "stream",
     "text": [
      "Apple,Watermellon,Grapes\n"
     ]
    },
    {
     "data": {
      "text/plain": [
       "'[AppleWatermellonGrapes]'"
      ]
     },
     "execution_count": 8,
     "metadata": {},
     "output_type": "execute_result"
    }
   ],
   "source": [
    "#dia 01\n",
    "#lab 4\n",
    "\n",
    "#replace de strings\n",
    "\n",
    "x = \"[Apple,Watermellon,Grapes]\"\n",
    "\n",
    "\n",
    "x.replace(\"[\",\"\").replace(\"]\",\"\")\n",
    "print( x.replace(\"[\",\"\").replace(\"]\",\"\") )\n",
    "\n",
    "x.replace(\",\",\"\")"
   ]
  },
  {
   "cell_type": "code",
   "execution_count": null,
   "id": "8e33358e-a59b-4070-8d7f-4c33a5ac0899",
   "metadata": {},
   "outputs": [],
   "source": []
  }
 ],
 "metadata": {
  "kernelspec": {
   "display_name": "Python 3 (ipykernel)",
   "language": "python",
   "name": "python3"
  },
  "language_info": {
   "codemirror_mode": {
    "name": "ipython",
    "version": 3
   },
   "file_extension": ".py",
   "mimetype": "text/x-python",
   "name": "python",
   "nbconvert_exporter": "python",
   "pygments_lexer": "ipython3",
   "version": "3.10.12"
  }
 },
 "nbformat": 4,
 "nbformat_minor": 5
}
